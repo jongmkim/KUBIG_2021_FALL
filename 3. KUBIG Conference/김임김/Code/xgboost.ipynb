{
  "cells": [
    {
      "cell_type": "code",
      "source": [
        "from google.colab import drive\n",
        "drive.mount('/content/drive')"
      ],
      "metadata": {
        "colab": {
          "base_uri": "https://localhost:8080/"
        },
        "id": "2uk8FVwA8AWy",
        "outputId": "17f55d53-579a-407f-a134-7647debefea8"
      },
      "execution_count": 1,
      "outputs": [
        {
          "output_type": "stream",
          "name": "stdout",
          "text": [
            "Mounted at /content/drive\n"
          ]
        }
      ]
    },
    {
      "cell_type": "code",
      "execution_count": 2,
      "metadata": {
        "id": "QsI7eevCx82O"
      },
      "outputs": [],
      "source": [
        "import random\n",
        "import keras\n",
        "import tensorflow as tf\n",
        "import pandas as pd\n",
        "import numpy as np\n",
        "import matplotlib.pyplot as plt\n",
        "import seaborn as sns\n",
        "from sklearn.preprocessing import MinMaxScaler\n",
        "from tensorflow.keras import Sequential\n",
        "import time\n",
        "import datetime"
      ]
    },
    {
      "cell_type": "code",
      "execution_count": 3,
      "metadata": {
        "id": "azh-NX6Qx84p"
      },
      "outputs": [],
      "source": [
        "bitcoin_cash_df = pd.read_csv(\"/content/drive/MyDrive/g-research-crypto-forecasting/bitcoin_cash.csv\")\n",
        "binance_coin_df = pd.read_csv(\"/content/drive/MyDrive/g-research-crypto-forecasting/binance_coin.csv\")\n",
        "bitcoin_df = pd.read_csv(\"/content/drive/MyDrive/g-research-crypto-forecasting/bitcoin.csv\")\n",
        "eos_df = pd.read_csv(\"/content/drive/MyDrive/g-research-crypto-forecasting/eos.csv\")\n",
        "ethereum_classic_df = pd.read_csv(\"/content/drive/MyDrive/g-research-crypto-forecasting/ethereum_classic.csv\")\n",
        "ethereum_df = pd.read_csv(\"/content/drive/MyDrive/g-research-crypto-forecasting/ethereum.csv\")\n",
        "litecoin_df = pd.read_csv(\"/content/drive/MyDrive/g-research-crypto-forecasting/litecoin.csv\")\n",
        "monero_df = pd.read_csv(\"/content/drive/MyDrive/g-research-crypto-forecasting/monero.csv\")\n",
        "tron_df = pd.read_csv(\"/content/drive/MyDrive/g-research-crypto-forecasting/tron.csv\")\n",
        "stellar_df = pd.read_csv(\"/content/drive/MyDrive/g-research-crypto-forecasting/stellar.csv\")\n",
        "cardano_df = pd.read_csv(\"/content/drive/MyDrive/g-research-crypto-forecasting/cardano.csv\")\n",
        "iota_df = pd.read_csv(\"/content/drive/MyDrive/g-research-crypto-forecasting/iota.csv\")\n",
        "maker_df = pd.read_csv(\"/content/drive/MyDrive/g-research-crypto-forecasting/maker.csv\")\n",
        "dogecoin_df = pd.read_csv(\"/content/drive/MyDrive/g-research-crypto-forecasting/dogecoin.csv\")"
      ]
    },
    {
      "cell_type": "markdown",
      "source": [
        "### bitcoin_cash"
      ],
      "metadata": {
        "id": "FfXZyHOxvc2E"
      }
    },
    {
      "cell_type": "code",
      "source": [
        "data_training = bitcoin_cash_df.copy()"
      ],
      "metadata": {
        "id": "jcSkKxrgxQjQ"
      },
      "execution_count": 4,
      "outputs": []
    },
    {
      "cell_type": "code",
      "source": [
        "from sklearn.preprocessing import StandardScaler\n",
        "\n",
        "# Split train data and test data\n",
        "train_size = int(len(data_training)*0.8)\n",
        "train_dataset, test_dataset = data_training.iloc[:train_size],data_training.iloc[train_size:]\n",
        "\n",
        "# 스케일링 인스턴스를 생성합니다.\n",
        "scaler = StandardScaler()\n",
        "\n",
        "# Split train data to X and y\n",
        "X_bcc_train = train_dataset.drop(['timestamp','Count','Target', 'Asset_Name'], axis = 1)\n",
        "y_bcc_train = train_dataset.Target\n",
        "\n",
        "# Split test data to X and y\n",
        "X_bcc_test = test_dataset.drop(['timestamp','Count','Target', 'Asset_Name'], axis = 1)\n",
        "y_bcc_test = test_dataset.Target\n",
        "\n",
        "X_bcc_train= scaler.fit_transform(X_bcc_train)\n",
        "X_bcc_test = scaler.transform(X_bcc_test)"
      ],
      "metadata": {
        "id": "HfaNBCh1xQm8"
      },
      "execution_count": 5,
      "outputs": []
    },
    {
      "cell_type": "code",
      "source": [
        "from xgboost import XGBRegressor\n",
        "from sklearn.metrics import mean_squared_error\n",
        "\n",
        "reg = XGBRegressor(n_estimators = 300, seed = 123)\n",
        "reg.fit(X_bcc_train, y_bcc_train)\n",
        "bcc_pred = reg.predict(X_bcc_train)\n",
        "np.sqrt(mean_squared_error(bcc_pred, y_bcc_train))"
      ],
      "metadata": {
        "colab": {
          "base_uri": "https://localhost:8080/"
        },
        "id": "a_YgAZJfDNFv",
        "outputId": "c92c6315-d637-4257-9c6f-602e450ce722"
      },
      "execution_count": 6,
      "outputs": [
        {
          "output_type": "stream",
          "name": "stdout",
          "text": [
            "[12:34:14] WARNING: /workspace/src/objective/regression_obj.cu:152: reg:linear is now deprecated in favor of reg:squarederror.\n"
          ]
        },
        {
          "output_type": "execute_result",
          "data": {
            "text/plain": [
              "0.006616576162357468"
            ]
          },
          "metadata": {},
          "execution_count": 6
        }
      ]
    },
    {
      "cell_type": "markdown",
      "source": [
        "### binance_coin"
      ],
      "metadata": {
        "id": "5dAKC2UDvc4m"
      }
    },
    {
      "cell_type": "code",
      "source": [
        "data_training = binance_coin_df.copy()"
      ],
      "metadata": {
        "id": "e2mrFPQ0yQ21"
      },
      "execution_count": 7,
      "outputs": []
    },
    {
      "cell_type": "code",
      "source": [
        "# Split train data and test data\n",
        "train_size = int(len(data_training)*0.8)\n",
        "train_dataset, test_dataset = data_training.iloc[:train_size],data_training.iloc[train_size:]\n",
        "\n",
        "# 스케일링 인스턴스를 생성합니다.\n",
        "scaler = StandardScaler()\n",
        "\n",
        "# Split train data to X and y\n",
        "X_bic_train = train_dataset.drop(['timestamp','Count','Target', 'Asset_Name'], axis = 1)\n",
        "y_bic_train = train_dataset.Target\n",
        "\n",
        "# Split test data to X and y\n",
        "X_bic_test = test_dataset.drop(['timestamp','Count','Target', 'Asset_Name'], axis = 1)\n",
        "y_bic_test = test_dataset.Target\n",
        "\n",
        "X_bic_train= scaler.fit_transform(X_bic_train)\n",
        "X_bic_test = scaler.transform(X_bic_test)"
      ],
      "metadata": {
        "id": "_mClsmpJyQ5J"
      },
      "execution_count": 8,
      "outputs": []
    },
    {
      "cell_type": "code",
      "source": [
        "reg = XGBRegressor(n_estimators = 300, seed = 123)\n",
        "reg.fit(X_bic_train, y_bic_train)\n",
        "bic_pred = reg.predict(X_bic_train)\n",
        "np.sqrt(mean_squared_error(bic_pred, y_bic_train))"
      ],
      "metadata": {
        "colab": {
          "base_uri": "https://localhost:8080/"
        },
        "id": "vVS3x02RJwnN",
        "outputId": "15ba8d6c-3291-43e1-d555-04c4db2f79aa"
      },
      "execution_count": 9,
      "outputs": [
        {
          "output_type": "stream",
          "name": "stdout",
          "text": [
            "[12:39:18] WARNING: /workspace/src/objective/regression_obj.cu:152: reg:linear is now deprecated in favor of reg:squarederror.\n"
          ]
        },
        {
          "output_type": "execute_result",
          "data": {
            "text/plain": [
              "0.005376968804152362"
            ]
          },
          "metadata": {},
          "execution_count": 9
        }
      ]
    },
    {
      "cell_type": "markdown",
      "source": [
        "### bitcoin"
      ],
      "metadata": {
        "id": "l1K_knxavc7C"
      }
    },
    {
      "cell_type": "code",
      "source": [
        "data_training = bitcoin_df.copy()"
      ],
      "metadata": {
        "id": "0Sc1sMlpy2Xq"
      },
      "execution_count": 10,
      "outputs": []
    },
    {
      "cell_type": "code",
      "source": [
        "# Split train data and test data\n",
        "train_size = int(len(data_training)*0.8)\n",
        "train_dataset, test_dataset = data_training.iloc[:train_size],data_training.iloc[train_size:]\n",
        "\n",
        "# 스케일링 인스턴스를 생성합니다.\n",
        "scaler = StandardScaler()\n",
        "\n",
        "# Split train data to X and y\n",
        "X_btc_train = train_dataset.drop(['timestamp','Count','Target', 'Asset_Name'], axis = 1)\n",
        "y_btc_train = train_dataset.Target\n",
        "\n",
        "# Split test data to X and y\n",
        "X_btc_test = test_dataset.drop(['timestamp','Count','Target', 'Asset_Name'], axis = 1)\n",
        "y_btc_test = test_dataset.Target\n",
        "\n",
        "X_btc_train= scaler.fit_transform(X_btc_train)\n",
        "X_btc_test = scaler.transform(X_btc_test)"
      ],
      "metadata": {
        "id": "pfxktdily2aS"
      },
      "execution_count": 11,
      "outputs": []
    },
    {
      "cell_type": "code",
      "source": [
        "reg = XGBRegressor(n_estimators = 300, seed = 123)\n",
        "reg.fit(X_btc_train, y_btc_train)\n",
        "btc_pred = reg.predict(X_btc_train)\n",
        "np.sqrt(mean_squared_error(btc_pred, y_btc_train))"
      ],
      "metadata": {
        "colab": {
          "base_uri": "https://localhost:8080/"
        },
        "id": "pA9AGPbYEq9c",
        "outputId": "25c5fb2c-a64e-41d2-d767-f00768868a40"
      },
      "execution_count": 13,
      "outputs": [
        {
          "output_type": "stream",
          "name": "stdout",
          "text": [
            "[12:49:54] WARNING: /workspace/src/objective/regression_obj.cu:152: reg:linear is now deprecated in favor of reg:squarederror.\n"
          ]
        },
        {
          "output_type": "execute_result",
          "data": {
            "text/plain": [
              "0.0018329592466827377"
            ]
          },
          "metadata": {},
          "execution_count": 13
        }
      ]
    },
    {
      "cell_type": "markdown",
      "source": [
        "### eos"
      ],
      "metadata": {
        "id": "LTvyO8RRvc9_"
      }
    },
    {
      "cell_type": "code",
      "source": [
        "data_training = eos_df.copy()"
      ],
      "metadata": {
        "id": "MxmD9BsDzKCe"
      },
      "execution_count": 14,
      "outputs": []
    },
    {
      "cell_type": "code",
      "source": [
        "# Split train data and test data\n",
        "train_size = int(len(data_training)*0.8)\n",
        "train_dataset, test_dataset = data_training.iloc[:train_size],data_training.iloc[train_size:]\n",
        "\n",
        "# 스케일링 인스턴스를 생성합니다.\n",
        "scaler = StandardScaler()\n",
        "\n",
        "# Split train data to X and y\n",
        "X_eos_train = train_dataset.drop(['timestamp','Count','Target', 'Asset_Name'], axis = 1)\n",
        "y_eos_train = train_dataset.Target\n",
        "\n",
        "# Split test data to X and y\n",
        "X_eos_test = test_dataset.drop(['timestamp','Count','Target', 'Asset_Name'], axis = 1)\n",
        "y_eos_test = test_dataset.Target\n",
        "\n",
        "X_eos_train= scaler.fit_transform(X_eos_train)\n",
        "X_eos_test = scaler.transform(X_eos_test)"
      ],
      "metadata": {
        "id": "8_ms-Y0FzKE4"
      },
      "execution_count": 15,
      "outputs": []
    },
    {
      "cell_type": "code",
      "source": [
        "reg = XGBRegressor(n_estimators = 300, seed = 123)\n",
        "reg.fit(X_eos_train, y_eos_train)\n",
        "eos_pred = reg.predict(X_eos_train)\n",
        "np.sqrt(mean_squared_error(eos_pred, y_eos_train))"
      ],
      "metadata": {
        "colab": {
          "base_uri": "https://localhost:8080/"
        },
        "id": "k7SK8XuEE2sc",
        "outputId": "2dd1b797-0678-4198-a651-4e6ade523004"
      },
      "execution_count": 16,
      "outputs": [
        {
          "output_type": "stream",
          "name": "stdout",
          "text": [
            "[12:55:19] WARNING: /workspace/src/objective/regression_obj.cu:152: reg:linear is now deprecated in favor of reg:squarederror.\n"
          ]
        },
        {
          "output_type": "execute_result",
          "data": {
            "text/plain": [
              "0.004676411472222827"
            ]
          },
          "metadata": {},
          "execution_count": 16
        }
      ]
    },
    {
      "cell_type": "markdown",
      "source": [
        "### ethereum_classic"
      ],
      "metadata": {
        "id": "K8tNP9l6vdAX"
      }
    },
    {
      "cell_type": "code",
      "source": [
        "data_training = ethereum_classic_df.copy()"
      ],
      "metadata": {
        "id": "fSsv5ALA8yi7"
      },
      "execution_count": 17,
      "outputs": []
    },
    {
      "cell_type": "code",
      "source": [
        "# Split train data and test data\n",
        "train_size = int(len(data_training)*0.8)\n",
        "train_dataset, test_dataset = data_training.iloc[:train_size],data_training.iloc[train_size:]\n",
        "\n",
        "# 스케일링 인스턴스를 생성합니다.\n",
        "scaler = StandardScaler()\n",
        "\n",
        "# Split train data to X and y\n",
        "X_etc_train = train_dataset.drop(['timestamp','Count','Target', 'Asset_Name'], axis = 1)\n",
        "y_etc_train = train_dataset.Target\n",
        "\n",
        "# Split test data to X and y\n",
        "X_etc_test = test_dataset.drop(['timestamp','Count','Target', 'Asset_Name'], axis = 1)\n",
        "y_etc_test = test_dataset.Target\n",
        "\n",
        "X_etc_train= scaler.fit_transform(X_etc_train)\n",
        "X_etc_test = scaler.transform(X_etc_test)"
      ],
      "metadata": {
        "id": "RIn4uqV18ylR"
      },
      "execution_count": 18,
      "outputs": []
    },
    {
      "cell_type": "code",
      "source": [
        "reg = XGBRegressor(n_estimators = 300, seed = 123)\n",
        "reg.fit(X_etc_train, y_etc_train)\n",
        "etc_pred = reg.predict(X_etc_train)\n",
        "np.sqrt(mean_squared_error(etc_pred, y_etc_train))"
      ],
      "metadata": {
        "colab": {
          "base_uri": "https://localhost:8080/"
        },
        "id": "QHDjB3D5E9mf",
        "outputId": "1e5293b2-098b-4e84-fa10-d54e395dd090"
      },
      "execution_count": 19,
      "outputs": [
        {
          "output_type": "stream",
          "name": "stdout",
          "text": [
            "[13:00:29] WARNING: /workspace/src/objective/regression_obj.cu:152: reg:linear is now deprecated in favor of reg:squarederror.\n"
          ]
        },
        {
          "output_type": "execute_result",
          "data": {
            "text/plain": [
              "0.00935983739783517"
            ]
          },
          "metadata": {},
          "execution_count": 19
        }
      ]
    },
    {
      "cell_type": "markdown",
      "source": [
        "### ethereum"
      ],
      "metadata": {
        "id": "fohqZsUFvdCp"
      }
    },
    {
      "cell_type": "code",
      "source": [
        "data_training = ethereum_df.copy()"
      ],
      "metadata": {
        "id": "DBrgrqHe87n5"
      },
      "execution_count": 20,
      "outputs": []
    },
    {
      "cell_type": "code",
      "source": [
        "# Split train data and test data\n",
        "train_size = int(len(data_training)*0.8)\n",
        "train_dataset, test_dataset = data_training.iloc[:train_size],data_training.iloc[train_size:]\n",
        "\n",
        "# 스케일링 인스턴스를 생성합니다.\n",
        "scaler = StandardScaler()\n",
        "\n",
        "# Split train data to X and y\n",
        "X_et_train = train_dataset.drop(['timestamp','Count','Target', 'Asset_Name'], axis = 1)\n",
        "y_et_train = train_dataset.Target\n",
        "\n",
        "# Split test data to X and y\n",
        "X_et_test = test_dataset.drop(['timestamp','Count','Target', 'Asset_Name'], axis = 1)\n",
        "y_et_test = test_dataset.Target\n",
        "\n",
        "X_et_train= scaler.fit_transform(X_et_train)\n",
        "X_et_test = scaler.transform(X_et_test)"
      ],
      "metadata": {
        "id": "Zf-CR_9387qQ"
      },
      "execution_count": 21,
      "outputs": []
    },
    {
      "cell_type": "code",
      "source": [
        "reg = XGBRegressor(n_estimators = 300, seed = 123)\n",
        "reg.fit(X_et_train, y_et_train)\n",
        "et_pred = reg.predict(X_et_train)\n",
        "np.sqrt(mean_squared_error(et_pred, y_et_train))"
      ],
      "metadata": {
        "colab": {
          "base_uri": "https://localhost:8080/"
        },
        "id": "QaHs6_HBFEBL",
        "outputId": "b5f53b59-77b5-41d1-9237-afbfac939883"
      },
      "execution_count": 22,
      "outputs": [
        {
          "output_type": "stream",
          "name": "stdout",
          "text": [
            "[13:05:28] WARNING: /workspace/src/objective/regression_obj.cu:152: reg:linear is now deprecated in favor of reg:squarederror.\n"
          ]
        },
        {
          "output_type": "execute_result",
          "data": {
            "text/plain": [
              "0.0023390302877083"
            ]
          },
          "metadata": {},
          "execution_count": 22
        }
      ]
    },
    {
      "cell_type": "markdown",
      "source": [
        "### litecoin"
      ],
      "metadata": {
        "id": "YCOcp49IvtEE"
      }
    },
    {
      "cell_type": "code",
      "source": [
        "data_training = litecoin_df.copy()"
      ],
      "metadata": {
        "id": "04azfGbQ9CLS"
      },
      "execution_count": 23,
      "outputs": []
    },
    {
      "cell_type": "code",
      "source": [
        "# Split train data and test data\n",
        "train_size = int(len(data_training)*0.8)\n",
        "train_dataset, test_dataset = data_training.iloc[:train_size],data_training.iloc[train_size:]\n",
        "\n",
        "# 스케일링 인스턴스를 생성합니다.\n",
        "scaler = StandardScaler()\n",
        "\n",
        "# Split train data to X and y\n",
        "X_ltc_train = train_dataset.drop(['timestamp','Count','Target', 'Asset_Name'], axis = 1)\n",
        "y_ltc_train = train_dataset.Target\n",
        "\n",
        "# Split test data to X and y\n",
        "X_ltc_test = test_dataset.drop(['timestamp','Count','Target', 'Asset_Name'], axis = 1)\n",
        "y_ltc_test = test_dataset.Target\n",
        "\n",
        "X_ltc_train= scaler.fit_transform(X_ltc_train)\n",
        "X_ltc_test = scaler.transform(X_ltc_test)"
      ],
      "metadata": {
        "id": "dVac7Whb9CN9"
      },
      "execution_count": 24,
      "outputs": []
    },
    {
      "cell_type": "code",
      "source": [
        "reg = XGBRegressor(n_estimators = 300, seed = 123)\n",
        "reg.fit(X_ltc_train, y_ltc_train)\n",
        "ltc_pred = reg.predict(X_ltc_train)\n",
        "np.sqrt(mean_squared_error(ltc_pred, y_ltc_train))"
      ],
      "metadata": {
        "colab": {
          "base_uri": "https://localhost:8080/"
        },
        "id": "R5vSM6p7FK1O",
        "outputId": "a82b4d5f-b039-4252-8032-0f0fb9764632"
      },
      "execution_count": 25,
      "outputs": [
        {
          "output_type": "stream",
          "name": "stdout",
          "text": [
            "[13:10:25] WARNING: /workspace/src/objective/regression_obj.cu:152: reg:linear is now deprecated in favor of reg:squarederror.\n"
          ]
        },
        {
          "output_type": "execute_result",
          "data": {
            "text/plain": [
              "0.0033823905862355313"
            ]
          },
          "metadata": {},
          "execution_count": 25
        }
      ]
    },
    {
      "cell_type": "markdown",
      "metadata": {
        "id": "aFSNOP527KLl"
      },
      "source": [
        "### monero"
      ]
    },
    {
      "cell_type": "code",
      "execution_count": 26,
      "metadata": {
        "id": "akPFxoQ3x9BR"
      },
      "outputs": [],
      "source": [
        "data_training = monero_df.copy()"
      ]
    },
    {
      "cell_type": "code",
      "execution_count": 27,
      "metadata": {
        "id": "OGDaV54TtfiX"
      },
      "outputs": [],
      "source": [
        "# Split train data and test data\n",
        "train_size = int(len(data_training)*0.8)\n",
        "train_dataset, test_dataset = data_training.iloc[:train_size],data_training.iloc[train_size:]\n",
        "\n",
        "# 스케일링 인스턴스를 생성합니다.\n",
        "scaler = StandardScaler()\n",
        "\n",
        "# Split train data to X and y\n",
        "X_mon_train = train_dataset.drop(['timestamp','Count','Target', 'Asset_Name'], axis = 1)\n",
        "y_mon_train = train_dataset.Target\n",
        "\n",
        "# Split test data to X and y\n",
        "X_mon_test = test_dataset.drop(['timestamp','Count','Target', 'Asset_Name'], axis = 1)\n",
        "y_mon_test = test_dataset.Target\n",
        "\n",
        "X_mon_train= scaler.fit_transform(X_mon_train)\n",
        "X_mon_test = scaler.transform(X_mon_test)"
      ]
    },
    {
      "cell_type": "code",
      "source": [
        "reg = XGBRegressor(n_estimators = 300, seed = 123)\n",
        "reg.fit(X_mon_train, y_mon_train)\n",
        "mon_pred = reg.predict(X_mon_train)\n",
        "np.sqrt(mean_squared_error(mon_pred, y_mon_train))"
      ],
      "metadata": {
        "colab": {
          "base_uri": "https://localhost:8080/"
        },
        "id": "xNxhmF_qFm7Q",
        "outputId": "be03d1be-b214-4329-89d0-6a34fdbf5585"
      },
      "execution_count": 28,
      "outputs": [
        {
          "output_type": "stream",
          "name": "stdout",
          "text": [
            "[13:15:22] WARNING: /workspace/src/objective/regression_obj.cu:152: reg:linear is now deprecated in favor of reg:squarederror.\n"
          ]
        },
        {
          "output_type": "execute_result",
          "data": {
            "text/plain": [
              "0.006260150812391275"
            ]
          },
          "metadata": {},
          "execution_count": 28
        }
      ]
    },
    {
      "cell_type": "markdown",
      "metadata": {
        "id": "DnH-s-vXtfic"
      },
      "source": [
        "### tron"
      ]
    },
    {
      "cell_type": "code",
      "execution_count": 29,
      "metadata": {
        "id": "Kvfny2bbtfid"
      },
      "outputs": [],
      "source": [
        "data_training = tron_df.copy()"
      ]
    },
    {
      "cell_type": "code",
      "execution_count": 30,
      "metadata": {
        "id": "Yfuv0355tfie"
      },
      "outputs": [],
      "source": [
        "# Split train data and test data\n",
        "train_size = int(len(data_training)*0.8)\n",
        "train_dataset, test_dataset = data_training.iloc[:train_size],data_training.iloc[train_size:]\n",
        "\n",
        "# 스케일링 인스턴스를 생성합니다.\n",
        "scaler = StandardScaler()\n",
        "\n",
        "# Split train data to X and y\n",
        "X_tron_train = train_dataset.drop(['timestamp','Count','Target', 'Asset_Name'], axis = 1)\n",
        "y_tron_train = train_dataset.Target\n",
        "\n",
        "# Split test data to X and y\n",
        "X_tron_test = test_dataset.drop(['timestamp','Count','Target', 'Asset_Name'], axis = 1)\n",
        "y_tron_test = test_dataset.Target\n",
        "\n",
        "X_tron_train = scaler.fit_transform(X_tron_train)\n",
        "X_tron_test = scaler.transform(X_tron_test)"
      ]
    },
    {
      "cell_type": "code",
      "source": [
        "reg = XGBRegressor(n_estimators = 300, seed = 123)\n",
        "reg.fit(X_tron_train, y_tron_train)\n",
        "tron_pred = reg.predict(X_tron_train)\n",
        "np.sqrt(mean_squared_error(tron_pred, y_tron_train))"
      ],
      "metadata": {
        "colab": {
          "base_uri": "https://localhost:8080/"
        },
        "id": "1rSNANaTFwtD",
        "outputId": "10e482fc-7d4a-4e4d-d589-82e79851e9d7"
      },
      "execution_count": 31,
      "outputs": [
        {
          "output_type": "stream",
          "name": "stdout",
          "text": [
            "[13:19:29] WARNING: /workspace/src/objective/regression_obj.cu:152: reg:linear is now deprecated in favor of reg:squarederror.\n"
          ]
        },
        {
          "output_type": "execute_result",
          "data": {
            "text/plain": [
              "0.004814045723822801"
            ]
          },
          "metadata": {},
          "execution_count": 31
        }
      ]
    },
    {
      "cell_type": "markdown",
      "metadata": {
        "id": "T_qdAG0ltfif"
      },
      "source": [
        "### stellar"
      ]
    },
    {
      "cell_type": "code",
      "execution_count": 32,
      "metadata": {
        "id": "YVUd3VZgtfig"
      },
      "outputs": [],
      "source": [
        "data_training = stellar_df.copy()"
      ]
    },
    {
      "cell_type": "code",
      "execution_count": 33,
      "metadata": {
        "id": "DiTq2UGYtfig"
      },
      "outputs": [],
      "source": [
        "# Split train data and test data\n",
        "train_size = int(len(data_training)*0.8)\n",
        "train_dataset, test_dataset = data_training.iloc[:train_size],data_training.iloc[train_size:]\n",
        "\n",
        "# 스케일링 인스턴스를 생성합니다.\n",
        "scaler = StandardScaler()\n",
        "\n",
        "# Split train data to X and y\n",
        "X_st_train = train_dataset.drop(['timestamp','Count','Target', 'Asset_Name'], axis = 1)\n",
        "y_st_train = train_dataset.Target\n",
        "\n",
        "# Split test data to X and y\n",
        "X_st_test = test_dataset.drop(['timestamp','Count','Target', 'Asset_Name'], axis = 1)\n",
        "y_st_test = test_dataset.Target\n",
        "\n",
        "X_st_train = scaler.fit_transform(X_st_train)\n",
        "X_st_test = scaler.transform(X_st_test)"
      ]
    },
    {
      "cell_type": "code",
      "source": [
        "reg = XGBRegressor(n_estimators = 300, seed = 123)\n",
        "reg.fit(X_st_train, y_st_train)\n",
        "st_pred = reg.predict(X_st_train)\n",
        "np.sqrt(mean_squared_error(st_pred, y_st_train))"
      ],
      "metadata": {
        "colab": {
          "base_uri": "https://localhost:8080/"
        },
        "id": "mqWdCJbsF7bD",
        "outputId": "b876880b-f1c2-4f47-9b00-f0ae4fccae5b"
      },
      "execution_count": 34,
      "outputs": [
        {
          "output_type": "stream",
          "name": "stdout",
          "text": [
            "[13:23:58] WARNING: /workspace/src/objective/regression_obj.cu:152: reg:linear is now deprecated in favor of reg:squarederror.\n"
          ]
        },
        {
          "output_type": "execute_result",
          "data": {
            "text/plain": [
              "0.004987921424876706"
            ]
          },
          "metadata": {},
          "execution_count": 34
        }
      ]
    },
    {
      "cell_type": "markdown",
      "metadata": {
        "id": "xUsvhRG_tfih"
      },
      "source": [
        "### cardano"
      ]
    },
    {
      "cell_type": "code",
      "execution_count": 35,
      "metadata": {
        "id": "uKjusUJ5tfii"
      },
      "outputs": [],
      "source": [
        "data_training = cardano_df.copy()"
      ]
    },
    {
      "cell_type": "code",
      "execution_count": 36,
      "metadata": {
        "id": "sTz-7_H2tfii"
      },
      "outputs": [],
      "source": [
        "# Split train data and test data\n",
        "train_size = int(len(data_training)*0.8)\n",
        "train_dataset, test_dataset = data_training.iloc[:train_size],data_training.iloc[train_size:]\n",
        "\n",
        "# 스케일링 인스턴스를 생성합니다.\n",
        "scaler = StandardScaler()\n",
        "\n",
        "# Split train data to X and y\n",
        "X_car_train = train_dataset.drop(['timestamp','Count','Target', 'Asset_Name'], axis = 1)\n",
        "y_car_train = train_dataset.Target\n",
        "\n",
        "# Split test data to X and y\n",
        "X_car_test = test_dataset.drop(['timestamp','Count','Target', 'Asset_Name'], axis = 1)\n",
        "y_car_test = test_dataset.Target\n",
        "\n",
        "X_car_train = scaler.fit_transform(X_car_train)\n",
        "X_car_test = scaler.transform(X_car_test)"
      ]
    },
    {
      "cell_type": "code",
      "source": [
        "reg = XGBRegressor(n_estimators = 300, seed = 123)\n",
        "reg.fit(X_car_train, y_car_train)\n",
        "car_pred = reg.predict(X_car_train)\n",
        "np.sqrt(mean_squared_error(car_pred, y_car_train))"
      ],
      "metadata": {
        "colab": {
          "base_uri": "https://localhost:8080/"
        },
        "id": "Qfi2HCiQGD2Q",
        "outputId": "2b128895-989a-4679-c6e3-1f7ba8476227"
      },
      "execution_count": 37,
      "outputs": [
        {
          "output_type": "stream",
          "name": "stdout",
          "text": [
            "[13:28:40] WARNING: /workspace/src/objective/regression_obj.cu:152: reg:linear is now deprecated in favor of reg:squarederror.\n"
          ]
        },
        {
          "output_type": "execute_result",
          "data": {
            "text/plain": [
              "0.004335562188737088"
            ]
          },
          "metadata": {},
          "execution_count": 37
        }
      ]
    },
    {
      "cell_type": "markdown",
      "metadata": {
        "id": "wZ_ysj75tfij"
      },
      "source": [
        "### iota"
      ]
    },
    {
      "cell_type": "code",
      "execution_count": 38,
      "metadata": {
        "id": "b_FtD4dItfij"
      },
      "outputs": [],
      "source": [
        "data_training = iota_df.copy()"
      ]
    },
    {
      "cell_type": "code",
      "execution_count": 39,
      "metadata": {
        "id": "FEHXEoIMtfij"
      },
      "outputs": [],
      "source": [
        "# Split train data and test data\n",
        "train_size = int(len(data_training)*0.8)\n",
        "train_dataset, test_dataset = data_training.iloc[:train_size],data_training.iloc[train_size:]\n",
        "\n",
        "# 스케일링 인스턴스를 생성합니다.\n",
        "scaler = StandardScaler()\n",
        "\n",
        "# Split train data to X and y\n",
        "X_io_train = train_dataset.drop(['timestamp','Count','Target', 'Asset_Name'], axis = 1)\n",
        "y_io_train = train_dataset.Target\n",
        "\n",
        "# Split test data to X and y\n",
        "X_io_test = test_dataset.drop(['timestamp','Count','Target', 'Asset_Name'], axis = 1)\n",
        "y_io_test = test_dataset.Target\n",
        "\n",
        "X_io_train = scaler.fit_transform(X_io_train)\n",
        "X_io_test = scaler.transform(X_io_test)"
      ]
    },
    {
      "cell_type": "code",
      "source": [
        "reg = XGBRegressor(n_estimators = 300, seed = 123)\n",
        "reg.fit(X_io_train, y_io_train)\n",
        "io_pred = reg.predict(X_io_train)\n",
        "np.sqrt(mean_squared_error(io_pred, y_io_train))"
      ],
      "metadata": {
        "colab": {
          "base_uri": "https://localhost:8080/"
        },
        "id": "GvbBzTKyGJLz",
        "outputId": "0658bc2a-f4ba-4aa8-b14a-99755bf66c6d"
      },
      "execution_count": 40,
      "outputs": [
        {
          "output_type": "stream",
          "name": "stdout",
          "text": [
            "[13:33:09] WARNING: /workspace/src/objective/regression_obj.cu:152: reg:linear is now deprecated in favor of reg:squarederror.\n"
          ]
        },
        {
          "output_type": "execute_result",
          "data": {
            "text/plain": [
              "0.006766431409396509"
            ]
          },
          "metadata": {},
          "execution_count": 40
        }
      ]
    },
    {
      "cell_type": "markdown",
      "metadata": {
        "id": "BAcDs7B7tfik"
      },
      "source": [
        "### maker"
      ]
    },
    {
      "cell_type": "code",
      "execution_count": 41,
      "metadata": {
        "id": "ExqfNeZStfil"
      },
      "outputs": [],
      "source": [
        "data_training = maker_df.copy()"
      ]
    },
    {
      "cell_type": "code",
      "source": [
        "# Split train data and test data\n",
        "train_size = int(len(data_training)*0.8)\n",
        "train_dataset, test_dataset = data_training.iloc[:train_size],data_training.iloc[train_size:]\n",
        "\n",
        "# 스케일링 인스턴스를 생성합니다.\n",
        "scaler = StandardScaler()\n",
        "\n",
        "# Split train data to X and y\n",
        "X_ma_train = train_dataset.drop(['timestamp','Count','Target', 'Asset_Name'], axis = 1)\n",
        "y_ma_train = train_dataset.Target\n",
        "\n",
        "# Split test data to X and y\n",
        "X_ma_test = test_dataset.drop(['timestamp','Count','Target', 'Asset_Name'], axis = 1)\n",
        "y_ma_test = test_dataset.Target\n",
        "\n",
        "X_ma_train= scaler.fit_transform(X_ma_train)\n",
        "X_ma_test = scaler.transform(X_ma_test)"
      ],
      "metadata": {
        "id": "VpcwGhHCaZYW"
      },
      "execution_count": null,
      "outputs": []
    },
    {
      "cell_type": "code",
      "source": [
        "reg = XGBRegressor(n_estimators = 300, seed = 123)\n",
        "reg.fit(X_ma_train, y_ma_train)\n",
        "ma_pred = reg.predict(X_ma_train)\n",
        "np.sqrt(mean_squared_error(ma_pred, y_ma_train))"
      ],
      "metadata": {
        "colab": {
          "base_uri": "https://localhost:8080/"
        },
        "id": "BpvkFx_qGQQU",
        "outputId": "5a819195-69a2-4ff0-d55c-bdd863d5df04"
      },
      "execution_count": 43,
      "outputs": [
        {
          "output_type": "stream",
          "name": "stdout",
          "text": [
            "[13:38:45] WARNING: /workspace/src/objective/regression_obj.cu:152: reg:linear is now deprecated in favor of reg:squarederror.\n"
          ]
        },
        {
          "output_type": "execute_result",
          "data": {
            "text/plain": [
              "0.0057711961966216176"
            ]
          },
          "metadata": {},
          "execution_count": 43
        }
      ]
    },
    {
      "cell_type": "markdown",
      "metadata": {
        "id": "LLdv3testfim"
      },
      "source": [
        "### dogecoin"
      ]
    },
    {
      "cell_type": "code",
      "execution_count": 44,
      "metadata": {
        "id": "NNB1tvUZtfim"
      },
      "outputs": [],
      "source": [
        "data_training = dogecoin_df.copy()"
      ]
    },
    {
      "cell_type": "code",
      "execution_count": 45,
      "metadata": {
        "id": "vlkYNxZ3tfim"
      },
      "outputs": [],
      "source": [
        "# Split train data and test data\n",
        "train_size = int(len(data_training)*0.8)\n",
        "train_dataset, test_dataset = data_training.iloc[:train_size],data_training.iloc[train_size:]\n",
        "\n",
        "# 스케일링 인스턴스를 생성합니다.\n",
        "scaler = StandardScaler()\n",
        "\n",
        "# Split train data to X and y\n",
        "X_dog_train = train_dataset.drop(['timestamp','Count','Target', 'Asset_Name'], axis = 1)\n",
        "y_dog_train = train_dataset.Target\n",
        "\n",
        "# Split test data to X and y\n",
        "X_dog_test = test_dataset.drop(['timestamp','Count','Target', 'Asset_Name'], axis = 1)\n",
        "y_dog_test = test_dataset.Target\n",
        "\n",
        "X_dog_train= scaler.fit_transform(X_dog_train)\n",
        "X_dog_test = scaler.transform(X_dog_test)"
      ]
    },
    {
      "cell_type": "code",
      "source": [
        "reg = XGBRegressor(n_estimators = 300, seed = 123)\n",
        "reg.fit(X_dog_train, y_dog_train)\n",
        "dog_pred = reg.predict(X_dog_train)\n",
        "np.sqrt(mean_squared_error(dog_pred, y_dog_train))"
      ],
      "metadata": {
        "colab": {
          "base_uri": "https://localhost:8080/"
        },
        "id": "YllV_KSh_V9y",
        "outputId": "cc9daf72-68cc-40c4-e9f0-8c0867933f33"
      },
      "execution_count": 46,
      "outputs": [
        {
          "output_type": "stream",
          "name": "stdout",
          "text": [
            "[13:40:22] WARNING: /workspace/src/objective/regression_obj.cu:152: reg:linear is now deprecated in favor of reg:squarederror.\n"
          ]
        },
        {
          "output_type": "execute_result",
          "data": {
            "text/plain": [
              "0.006721185340300911"
            ]
          },
          "metadata": {},
          "execution_count": 46
        }
      ]
    },
    {
      "cell_type": "markdown",
      "source": [
        "### MSE"
      ],
      "metadata": {
        "id": "_2yx7o4ne3k-"
      }
    },
    {
      "cell_type": "code",
      "source": [
        "print(np.sqrt(mean_squared_error(btc_pred, y_btc_train)),\n",
        "np.sqrt(mean_squared_error(eos_pred, y_eos_train)),\n",
        "np.sqrt(mean_squared_error(etc_pred, y_etc_train)),\n",
        "np.sqrt(mean_squared_error(et_pred, y_et_train)),\n",
        "np.sqrt(mean_squared_error(ltc_pred, y_ltc_train)),\n",
        "np.sqrt(mean_squared_error(mon_pred, y_mon_train)),\n",
        "np.sqrt(mean_squared_error(tron_pred, y_tron_train)),\n",
        "np.sqrt(mean_squared_error(st_pred, y_st_train)),\n",
        "np.sqrt(mean_squared_error(car_pred, y_car_train)),\n",
        "np.sqrt(mean_squared_error(io_pred, y_io_train)),\n",
        "np.sqrt(mean_squared_error(ma_pred, y_ma_train)),\n",
        "np.sqrt(mean_squared_error(dog_pred, y_dog_train)))"
      ],
      "metadata": {
        "colab": {
          "base_uri": "https://localhost:8080/"
        },
        "id": "sH0hReo-I92w",
        "outputId": "1e83e51e-3f7f-42f4-8807-c5504930b2b5"
      },
      "execution_count": 47,
      "outputs": [
        {
          "output_type": "stream",
          "name": "stdout",
          "text": [
            "0.0018329592466827377 0.004676411472222827 0.00935983739783517 0.0023390302877083 0.0033823905862355313 0.006260150812391275 0.004814045723822801 0.004987921424876706 0.004335562188737088 0.006766431409396509 0.0057711961966216176 0.006721185340300911\n"
          ]
        }
      ]
    }
  ],
  "metadata": {
    "colab": {
      "collapsed_sections": [],
      "name": "xgboost",
      "provenance": [],
      "toc_visible": true
    },
    "kernelspec": {
      "display_name": "Python 3",
      "language": "python",
      "name": "python3"
    },
    "language_info": {
      "codemirror_mode": {
        "name": "ipython",
        "version": 3
      },
      "file_extension": ".py",
      "mimetype": "text/x-python",
      "name": "python",
      "nbconvert_exporter": "python",
      "pygments_lexer": "ipython3",
      "version": "3.8.8"
    },
    "accelerator": "GPU"
  },
  "nbformat": 4,
  "nbformat_minor": 0
}